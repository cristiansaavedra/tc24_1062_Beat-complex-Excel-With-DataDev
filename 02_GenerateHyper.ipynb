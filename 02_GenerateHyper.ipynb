{
 "cells": [
  {
   "cell_type": "markdown",
   "id": "db03b2a8-38b6-4e6e-893e-737db56bd2c8",
   "metadata": {},
   "source": [
    "## Install tableauhyperapi package"
   ]
  },
  {
   "cell_type": "code",
   "execution_count": 1,
   "id": "1aaa862a-7214-4327-8086-c7259d4fd551",
   "metadata": {},
   "outputs": [
    {
     "name": "stdout",
     "output_type": "stream",
     "text": [
      "Collecting tableauhyperapi\n",
      "  Downloading tableauhyperapi-0.0.18825-py3-none-manylinux2014_x86_64.whl.metadata (1.3 kB)\n",
      "Requirement already satisfied: cffi!=1.14.3,<2,>=1.12.2 in /home/csaavedra/miniconda3/lib/python3.11/site-packages (from tableauhyperapi) (1.16.0)\n",
      "Requirement already satisfied: pycparser in /home/csaavedra/miniconda3/lib/python3.11/site-packages (from cffi!=1.14.3,<2,>=1.12.2->tableauhyperapi) (2.21)\n",
      "Downloading tableauhyperapi-0.0.18825-py3-none-manylinux2014_x86_64.whl (69.5 MB)\n",
      "\u001b[2K   \u001b[90m━━━━━━━━━━━━━━━━━━━━━━━━━━━━━━━━━━━━━━━━\u001b[0m \u001b[32m69.5/69.5 MB\u001b[0m \u001b[31m22.2 MB/s\u001b[0m eta \u001b[36m0:00:00\u001b[0m00:01\u001b[0m00:01\u001b[0m\n",
      "\u001b[?25hInstalling collected packages: tableauhyperapi\n",
      "Successfully installed tableauhyperapi-0.0.18825\n"
     ]
    }
   ],
   "source": [
    "!pip install tableauhyperapi"
   ]
  },
  {
   "cell_type": "markdown",
   "id": "8f7ff74b-c563-4d5e-ba19-28fd541b4295",
   "metadata": {},
   "source": [
    "### Import libraries"
   ]
  },
  {
   "cell_type": "code",
   "execution_count": 2,
   "id": "e801503e-25b1-46d7-95bd-78e67ea5b18e",
   "metadata": {},
   "outputs": [],
   "source": [
    "from pathlib import Path\n",
    "from tableauhyperapi import HyperProcess, Telemetry, \\\n",
    "    Connection, CreateMode, \\\n",
    "    NOT_NULLABLE, NULLABLE, SqlType, TableDefinition, \\\n",
    "    Inserter, \\\n",
    "    escape_name, escape_string_literal, \\\n",
    "    HyperException"
   ]
  },
  {
   "cell_type": "markdown",
   "id": "13dd4b73-9540-40c3-87b2-0f47cbdb9419",
   "metadata": {},
   "source": [
    "### Set variables"
   ]
  },
  {
   "cell_type": "code",
   "execution_count": 3,
   "id": "d001cb3c-b580-4290-9173-49d4cad4bedf",
   "metadata": {},
   "outputs": [],
   "source": [
    "csv_file   = r'/home/csaavedra/tc24/1062/demo1/temp/Actual and Forecast Consolidated 202401.csv'\n",
    "hyper_file = r'/home/csaavedra/tc24/1062/demo1/temp/Consolidated.hyper'"
   ]
  },
  {
   "cell_type": "markdown",
   "id": "23d52529-4f21-4021-a40d-e708686898be",
   "metadata": {},
   "source": [
    "### Definitions"
   ]
  },
  {
   "cell_type": "code",
   "execution_count": 4,
   "id": "94b2aa6f-ea19-49c3-91ca-5622be309a87",
   "metadata": {},
   "outputs": [],
   "source": [
    "table = TableDefinition(\n",
    "    table_name=\"Consolidated\",\n",
    "    columns=[\n",
    "        TableDefinition.Column(\"Product\",          SqlType.text(), NOT_NULLABLE),\n",
    "        TableDefinition.Column(\"UOM\",              SqlType.text(), NOT_NULLABLE),\n",
    "        TableDefinition.Column(\"Category\",         SqlType.text(), NOT_NULLABLE),\n",
    "        TableDefinition.Column(\"Region\",           SqlType.text(), NOT_NULLABLE),\n",
    "        TableDefinition.Column(\"Id\",               SqlType.big_int(), NOT_NULLABLE),\n",
    "        TableDefinition.Column(\"Period\",           SqlType.date(), NOT_NULLABLE),\n",
    "        TableDefinition.Column(\"Value\",            SqlType.double(), NOT_NULLABLE), #6\n",
    "        TableDefinition.Column(\"Color\",            SqlType.text(), NOT_NULLABLE),\n",
    "        TableDefinition.Column(\"Comments\",         SqlType.text(), NULLABLE),\n",
    "        TableDefinition.Column(\"View\",             SqlType.text(), NOT_NULLABLE),\n",
    "        TableDefinition.Column(\"Reported_period\",  SqlType.text(), NOT_NULLABLE),\n",
    "\n",
    "    ]\n",
    ")"
   ]
  },
  {
   "cell_type": "markdown",
   "id": "409eb38e-c2ab-4641-aae0-9785e3d44921",
   "metadata": {},
   "source": [
    "### Generate Hyper File"
   ]
  },
  {
   "cell_type": "code",
   "execution_count": 5,
   "id": "8880b27c-c3f8-4609-949f-22a109d3a2a4",
   "metadata": {},
   "outputs": [
    {
     "name": "stdout",
     "output_type": "stream",
     "text": [
      "[Loading file: /home/csaavedra/tc24/1062/demo1/temp/Actual and Forecast Consolidated 202401.csv...]\n",
      "Number of records in the table \"Consolidated\" is 768.\n",
      "[End.]\n"
     ]
    }
   ],
   "source": [
    "print(f\"[Loading file: {csv_file}...]\")\n",
    "path_to_database = Path(hyper_file)\n",
    "\n",
    "with HyperProcess(telemetry=Telemetry.SEND_USAGE_DATA_TO_TABLEAU) as hyper:\n",
    "\n",
    "    connection_parameters = {\"lc_time\": \"en_US\"}\n",
    "    with Connection(endpoint=hyper.endpoint,\n",
    "                    database=path_to_database,\n",
    "                    create_mode=CreateMode.CREATE_AND_REPLACE,\n",
    "                    parameters=connection_parameters) as connection:\n",
    "\n",
    "        connection.catalog.create_table(table_definition=table)\n",
    "        count_in_table = connection.execute_command(\n",
    "            command=f\"COPY {table.table_name} from {escape_string_literal(csv_file)} with \"\n",
    "            f\"(format csv, NULL 'NULL', delimiter ',', header)\")\n",
    "\n",
    "        print(f\"Number of records in the table {table.table_name} is {count_in_table}.\")\n",
    "\n",
    "print(\"[End.]\")\n"
   ]
  },
  {
   "cell_type": "code",
   "execution_count": null,
   "id": "0b723a1f-59c6-4d5c-81c9-8a3364d7c1aa",
   "metadata": {},
   "outputs": [],
   "source": []
  }
 ],
 "metadata": {
  "kernelspec": {
   "display_name": "Python 3 (ipykernel)",
   "language": "python",
   "name": "python3"
  },
  "language_info": {
   "codemirror_mode": {
    "name": "ipython",
    "version": 3
   },
   "file_extension": ".py",
   "mimetype": "text/x-python",
   "name": "python",
   "nbconvert_exporter": "python",
   "pygments_lexer": "ipython3",
   "version": "3.11.7"
  }
 },
 "nbformat": 4,
 "nbformat_minor": 5
}
