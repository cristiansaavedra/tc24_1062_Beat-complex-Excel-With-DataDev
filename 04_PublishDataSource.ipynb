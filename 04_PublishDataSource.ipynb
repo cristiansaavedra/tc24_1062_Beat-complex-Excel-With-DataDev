{
 "cells": [
  {
   "cell_type": "markdown",
   "id": "91e72f01-0b11-4538-a1c5-f8d9cd06e675",
   "metadata": {},
   "source": [
    "## Install tableauserverclient package"
   ]
  },
  {
   "cell_type": "code",
   "execution_count": 1,
   "id": "f8860af6-320d-42e7-b2b9-44df83fab41e",
   "metadata": {},
   "outputs": [
    {
     "name": "stdout",
     "output_type": "stream",
     "text": [
      "Collecting tableauserverclient\n",
      "  Downloading tableauserverclient-0.30-py3-none-any.whl.metadata (4.1 kB)\n",
      "Requirement already satisfied: defusedxml>=0.7.1 in /home/csaavedra/miniconda3/lib/python3.11/site-packages (from tableauserverclient) (0.7.1)\n",
      "Requirement already satisfied: packaging>=23.1 in /home/csaavedra/miniconda3/lib/python3.11/site-packages (from tableauserverclient) (23.1)\n",
      "Requirement already satisfied: requests>=2.31 in /home/csaavedra/miniconda3/lib/python3.11/site-packages (from tableauserverclient) (2.31.0)\n",
      "Collecting urllib3==2.0.7 (from tableauserverclient)\n",
      "  Downloading urllib3-2.0.7-py3-none-any.whl.metadata (6.6 kB)\n",
      "Requirement already satisfied: charset-normalizer<4,>=2 in /home/csaavedra/miniconda3/lib/python3.11/site-packages (from requests>=2.31->tableauserverclient) (2.0.4)\n",
      "Requirement already satisfied: idna<4,>=2.5 in /home/csaavedra/miniconda3/lib/python3.11/site-packages (from requests>=2.31->tableauserverclient) (3.4)\n",
      "Requirement already satisfied: certifi>=2017.4.17 in /home/csaavedra/miniconda3/lib/python3.11/site-packages (from requests>=2.31->tableauserverclient) (2024.2.2)\n",
      "Downloading tableauserverclient-0.30-py3-none-any.whl (137 kB)\n",
      "\u001b[2K   \u001b[90m━━━━━━━━━━━━━━━━━━━━━━━━━━━━━━━━━━━━━━━━\u001b[0m \u001b[32m137.7/137.7 kB\u001b[0m \u001b[31m1.1 MB/s\u001b[0m eta \u001b[36m0:00:00\u001b[0ma \u001b[36m0:00:01\u001b[0m\n",
      "\u001b[?25hDownloading urllib3-2.0.7-py3-none-any.whl (124 kB)\n",
      "\u001b[2K   \u001b[90m━━━━━━━━━━━━━━━━━━━━━━━━━━━━━━━━━━━━━━━━\u001b[0m \u001b[32m124.2/124.2 kB\u001b[0m \u001b[31m1.8 MB/s\u001b[0m eta \u001b[36m0:00:00\u001b[0m:--:--\u001b[0m\n",
      "\u001b[?25hInstalling collected packages: urllib3, tableauserverclient\n",
      "  Attempting uninstall: urllib3\n",
      "    Found existing installation: urllib3 2.1.0\n",
      "    Uninstalling urllib3-2.1.0:\n",
      "      Successfully uninstalled urllib3-2.1.0\n",
      "Successfully installed tableauserverclient-0.30 urllib3-2.0.7\n"
     ]
    }
   ],
   "source": [
    "!pip install tableauserverclient"
   ]
  },
  {
   "cell_type": "markdown",
   "id": "9bfbcd05-0f61-4774-befb-346f52757263",
   "metadata": {},
   "source": [
    "### Testing connection"
   ]
  },
  {
   "cell_type": "code",
   "execution_count": 2,
   "id": "f3710975-c0a0-4ee7-92f6-2b2733d54faf",
   "metadata": {},
   "outputs": [
    {
     "name": "stdout",
     "output_type": "stream",
     "text": [
      "[Connected to Tableau Server:https://10ax.online.tableau.com using token:PYTHON_REST_API]\n",
      "[Disconnected]\n"
     ]
    }
   ],
   "source": [
    "import importlib\n",
    "import PAT as key\n",
    "key = importlib.reload(key)\n",
    "\n",
    "import tableauserverclient as TSC\n",
    "\n",
    "server_url = 'https://10ax.online.tableau.com'\n",
    "site = 'cristiansaavedradev226290'\n",
    "mytoken_name = key.value['ID']\n",
    "mytoken_secret = key.value['KEY']\n",
    "\n",
    "server = TSC.Server(server_url, use_server_version=True)\n",
    "tableau_auth = TSC.PersonalAccessTokenAuth(token_name=mytoken_name, personal_access_token=mytoken_secret, site_id=site)\n",
    "with server.auth.sign_in_with_personal_access_token(tableau_auth):\n",
    "    print('[Connected to Tableau Server:{0} using token:{1}]'.format(server_url, mytoken_name))\n",
    "\n",
    "server.auth.sign_out()\n",
    "print('[Disconnected]')"
   ]
  },
  {
   "cell_type": "markdown",
   "id": "f2a4107d-6718-46d2-809b-753d6ca19573",
   "metadata": {},
   "source": [
    "### Searching Project with the name \"HyperAPI\""
   ]
  },
  {
   "cell_type": "code",
   "execution_count": 3,
   "id": "7a32f183-5b91-44e2-a7a3-5a68b7fe5bc6",
   "metadata": {},
   "outputs": [
    {
     "name": "stdout",
     "output_type": "stream",
     "text": [
      "[Connected to Tableau Server:https://10ax.online.tableau.com using token:PYTHON_REST_API]\n",
      "[Listing Projects...]\n",
      "Project Name:[default], ID:[b05a038c-4316-4fc8-9825-62c496847b92]\n",
      "Project Name:[Samples], ID:[d3a3ebd2-ab76-43e0-ae62-4d39a51fb7a7]\n",
      "Project Name:[TEST1], ID:[83f675ef-c871-4abf-b2a8-13d1b3c52dee]\n",
      "Project Name:[External Assets Default Project], ID:[0a994785-5488-4272-90f7-53decfca7bc2]\n",
      "Project Name:[ComunidatosMap], ID:[be2473db-eb60-4baa-aedf-3dedde5fdd26]\n",
      "Project Name:[ComuniDatosMap-EN], ID:[4a31157d-a6fc-4ab8-a86c-b7e7b047d1cd]\n",
      "Project Name:[VizExtensions], ID:[f916c2f7-75dd-4fcc-a124-4803b4e0a247]\n",
      "Project Name:[HyperAPI], ID:[5704e319-47ed-4f10-91dd-1ff2d3a69073]\n",
      "Project Name:[Steps], ID:[74702d18-a5a7-44e8-b31b-0d48d8b8ec96]\n",
      "[Disconnected]\n"
     ]
    }
   ],
   "source": [
    "import PAT as key\n",
    "import tableauserverclient as TSC\n",
    "\n",
    "server_url = 'https://10ax.online.tableau.com'\n",
    "site = 'cristiansaavedradev226290'\n",
    "mytoken_name = key.value['ID']\n",
    "mytoken_secret = key.value['KEY']\n",
    "\n",
    "server = TSC.Server(server_url, use_server_version=True)\n",
    "tableau_auth = TSC.PersonalAccessTokenAuth(token_name=mytoken_name, personal_access_token=mytoken_secret, site_id=site)\n",
    "\n",
    "with server.auth.sign_in_with_personal_access_token(tableau_auth):\n",
    "    print('[Connected to Tableau Server:{0} using token:{1}]'.format(server_url, mytoken_name))\n",
    "    print('[Listing Projects...]')        \n",
    "    all_datasources, pagination_item = server.datasources.get()\n",
    "    \n",
    "    for project in TSC.Pager(server.projects.get):\n",
    "        print(\"Project Name:[{}], ID:[{}]\".format(project.name, project.id))\n",
    "\n",
    "server.auth.sign_out()\n",
    "print('[Disconnected]')"
   ]
  },
  {
   "cell_type": "markdown",
   "id": "0def9731-3a45-40d1-82c5-955e8030739f",
   "metadata": {},
   "source": [
    "### Publishing DataSource"
   ]
  },
  {
   "cell_type": "code",
   "execution_count": 4,
   "id": "02722fe5-fd51-4133-95f5-355219e7ec0c",
   "metadata": {},
   "outputs": [
    {
     "name": "stdout",
     "output_type": "stream",
     "text": [
      "[Connected to Tableau Server:https://10ax.online.tableau.com using token:PYTHON_REST_API]\n",
      "[Publishing /home/csaavedra/tc24/1062/demo1/temp/Consolidated.hyper extract \n",
      "into project id:5704e319-47ed-4f10-91dd-1ff2d3a69073...]\n",
      "Datasource published. Datasource ID: 2de0b1dc-1d8a-4c33-99b5-e0bc80a69e1b\n",
      "[Disconnected]\n"
     ]
    }
   ],
   "source": [
    "import PAT as key\n",
    "from pathlib import Path\n",
    "import tableauserverclient as TSC\n",
    "\n",
    "project_id         = '5704e319-47ed-4f10-91dd-1ff2d3a69073'\n",
    "hyper_file         = r'/home/csaavedra/tc24/1062/demo1/temp/Consolidated.hyper'\n",
    "path_to_database   = Path(hyper_file)\n",
    "\n",
    "server_url = 'https://10ax.online.tableau.com'\n",
    "site = 'cristiansaavedradev226290'\n",
    "mytoken_name = key.value['ID']\n",
    "mytoken_secret = key.value['KEY']\n",
    "\n",
    "server = TSC.Server(server_url, use_server_version=True)\n",
    "tableau_auth = TSC.PersonalAccessTokenAuth(token_name=mytoken_name, personal_access_token=mytoken_secret, site_id=site)\n",
    "\n",
    "# Connect to Tableau Server\n",
    "with server.auth.sign_in_with_personal_access_token(tableau_auth):\n",
    "    print('[Connected to Tableau Server:{0} using token:{1}]'.format(server_url, mytoken_name))\n",
    "    publish_mode = TSC.Server.PublishMode.Overwrite\n",
    "\n",
    "    # Publish datasource\n",
    "    print('[Publishing {0} extract \\ninto project id:{1}...]'.format(path_to_database, project_id))\n",
    "    datasource = TSC.DatasourceItem(project_id)\n",
    "    datasource = server.datasources.publish(datasource, path_to_database, publish_mode)\n",
    "    print(\"Datasource published. Datasource ID: {0}\".format(datasource.id))\n",
    "\n",
    "server.auth.sign_out()\n",
    "print('[Disconnected]')"
   ]
  },
  {
   "cell_type": "code",
   "execution_count": null,
   "id": "6d272174-d020-4dba-91a4-e2a2091eb9cd",
   "metadata": {},
   "outputs": [],
   "source": []
  }
 ],
 "metadata": {
  "kernelspec": {
   "display_name": "Python 3 (ipykernel)",
   "language": "python",
   "name": "python3"
  },
  "language_info": {
   "codemirror_mode": {
    "name": "ipython",
    "version": 3
   },
   "file_extension": ".py",
   "mimetype": "text/x-python",
   "name": "python",
   "nbconvert_exporter": "python",
   "pygments_lexer": "ipython3",
   "version": "3.11.7"
  }
 },
 "nbformat": 4,
 "nbformat_minor": 5
}
